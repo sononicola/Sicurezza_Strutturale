{
 "cells": [
  {
   "cell_type": "markdown",
   "metadata": {
    "collapsed": false
   },
   "source": [
    "Metodo delle forze in forma matriciale:\n",
    "https://www.matematicamente.it/staticfiles/approfondimenti/ingegneria/il-metodo-delle-forze-in-forma-matriciale.pdf"
   ]
  },
  {
   "cell_type": "code",
   "execution_count": 1,
   "metadata": {
    "collapsed": false
   },
   "outputs": [
    {
     "data": {
      "text/plain": [
       "98362.5000000000"
      ]
     },
     "execution_count": 1,
     "metadata": {
     },
     "output_type": "execute_result"
    }
   ],
   "source": [
    "#Dati problema\n",
    "#Sinistra appoggio\n",
    "#Destra incastro\n",
    "#6 campate\n",
    "\n",
    "l1=3.00\n",
    "l2=4.50\n",
    "l3=4.00\n",
    "l4=5.00\n",
    "l5=6.15\n",
    "l6=4.00\n",
    "ltot=l1+l2+l3+l4+l5+l6\n",
    "nCampate=6\n",
    "j=(0.3 * 0.5**3)/12 #m4\n",
    "ej=31476*1000000*j/1000 #Mpa * m4 -> N*m2 -> kN*m2\n",
    "ej"
   ]
  },
  {
   "cell_type": "code",
   "execution_count": 2,
   "metadata": {
    "collapsed": false
   },
   "outputs": [
   ],
   "source": [
    "I=identity_matrix(nCampate)"
   ]
  },
  {
   "cell_type": "code",
   "execution_count": 3,
   "metadata": {
    "collapsed": false
   },
   "outputs": [
    {
     "data": {
      "text/html": [
       "<html><script type=\"math/tex; mode=display\">\\newcommand{\\Bold}[1]{\\mathbf{#1}}\\left(\\begin{array}{rrrrrrr}\n",
       "\\frac{L_{1}}{3 \\, \\mathit{EJ}} & \\frac{L_{1}}{6 \\, \\mathit{EJ}} & 0 & 0 & 0 & 0 & 0 \\\\\n",
       "\\frac{L_{1}}{6 \\, \\mathit{EJ}} & \\frac{L_{1} + L_{2}}{3 \\, \\mathit{EJ}} & \\frac{L_{2}}{6 \\, \\mathit{EJ}} & 0 & 0 & 0 & 0 \\\\\n",
       "0 & \\frac{L_{2}}{6 \\, \\mathit{EJ}} & \\frac{L_{2} + L_{3}}{3 \\, \\mathit{EJ}} & \\frac{L_{3}}{6 \\, \\mathit{EJ}} & 0 & 0 & 0 \\\\\n",
       "0 & 0 & \\frac{L_{3}}{6 \\, \\mathit{EJ}} & \\frac{L_{3} + L_{4}}{3 \\, \\mathit{EJ}} & \\frac{L_{4}}{6 \\, \\mathit{EJ}} & 0 & 0 \\\\\n",
       "0 & 0 & 0 & \\frac{L_{4}}{6 \\, \\mathit{EJ}} & \\frac{L_{4} + L_{5}}{3 \\, \\mathit{EJ}} & \\frac{L_{5}}{6 \\, \\mathit{EJ}} & 0 \\\\\n",
       "0 & 0 & 0 & 0 & \\frac{L_{5}}{6 \\, \\mathit{EJ}} & \\frac{L_{5} + L_{6}}{3 \\, \\mathit{EJ}} & \\frac{L_{6}}{6 \\, \\mathit{EJ}} \\\\\n",
       "0 & 0 & 0 & 0 & 0 & \\frac{L_{6}}{6 \\, \\mathit{EJ}} & \\frac{L_{6}}{3 \\, \\mathit{EJ}}\n",
       "\\end{array}\\right)</script></html>"
      ],
      "text/plain": [
       "[       1/3*L1/EJ        1/6*L1/EJ                0                0                0                0                0]\n",
       "[       1/6*L1/EJ 1/3*(L1 + L2)/EJ        1/6*L2/EJ                0                0                0                0]\n",
       "[               0        1/6*L2/EJ 1/3*(L2 + L3)/EJ        1/6*L3/EJ                0                0                0]\n",
       "[               0                0        1/6*L3/EJ 1/3*(L3 + L4)/EJ        1/6*L4/EJ                0                0]\n",
       "[               0                0                0        1/6*L4/EJ 1/3*(L4 + L5)/EJ        1/6*L5/EJ                0]\n",
       "[               0                0                0                0        1/6*L5/EJ 1/3*(L5 + L6)/EJ        1/6*L6/EJ]\n",
       "[               0                0                0                0                0        1/6*L6/EJ        1/3*L6/EJ]"
      ]
     },
     "execution_count": 3,
     "metadata": {
     },
     "output_type": "execute_result"
    }
   ],
   "source": [
    "#Generica 7x7\n",
    "L1,L2,L3,L4,L5,L6,EJ=var('L1,L2,L3,L4,L5,L6,EJ')\n",
    "flex_gen=matrix([\n",
    "[1/3*L1,1/6*L1,0,0,0,0,0],\n",
    "[1/6*L1,1/3*L1+1/3*L2,1/6*L2,0,0,0,0],\n",
    "[0,1/6*L2,1/3*L2+1/3*L3,1/6*L3,0,0,0],\n",
    "[0,0,1/6*L3,1/3*L3+1/3*L4,1/6*L4,0,0],\n",
    "[0,0,0,1/6*L4,1/3*L4+1/3*L5,1/6*L5,0],\n",
    "[0,0,0,0,1/6*L5,1/3*L5+1/3*L6,1/6*L6],\n",
    "[0,0,0,0,0,+1/6*L6,1/3*L6]\n",
    "])*1/(EJ)\n",
    "#flex_gen[:,0]=0 #prima colonna\n",
    "#flex_gen[0,:]=0 #prima riga\n",
    "#flex_gen[:,6]=0 #ultima colonna\n",
    "#flex_gen[6,:]=0 #ultima riga\n",
    "show(flex_gen)"
   ]
  },
  {
   "cell_type": "code",
   "execution_count": 4,
   "metadata": {
    "collapsed": false,
    "scrolled": true
   },
   "outputs": [
    {
     "data": {
      "text/html": [
       "<html><script type=\"math/tex; mode=display\">\\newcommand{\\Bold}[1]{\\mathbf{#1}}\\left(\\begin{array}{rrrrrr}\n",
       "\\frac{L_{1} + L_{2}}{3 \\, \\mathit{EJ}} & \\frac{L_{2}}{6 \\, \\mathit{EJ}} & 0 & 0 & 0 & 0 \\\\\n",
       "\\frac{L_{2}}{6 \\, \\mathit{EJ}} & \\frac{L_{2} + L_{3}}{3 \\, \\mathit{EJ}} & \\frac{L_{3}}{6 \\, \\mathit{EJ}} & 0 & 0 & 0 \\\\\n",
       "0 & \\frac{L_{3}}{6 \\, \\mathit{EJ}} & \\frac{L_{3} + L_{4}}{3 \\, \\mathit{EJ}} & \\frac{L_{4}}{6 \\, \\mathit{EJ}} & 0 & 0 \\\\\n",
       "0 & 0 & \\frac{L_{4}}{6 \\, \\mathit{EJ}} & \\frac{L_{4} + L_{5}}{3 \\, \\mathit{EJ}} & \\frac{L_{5}}{6 \\, \\mathit{EJ}} & 0 \\\\\n",
       "0 & 0 & 0 & \\frac{L_{5}}{6 \\, \\mathit{EJ}} & \\frac{L_{5} + L_{6}}{3 \\, \\mathit{EJ}} & \\frac{L_{6}}{6 \\, \\mathit{EJ}} \\\\\n",
       "0 & 0 & 0 & 0 & \\frac{L_{6}}{6 \\, \\mathit{EJ}} & \\frac{L_{6}}{3 \\, \\mathit{EJ}}\n",
       "\\end{array}\\right)</script></html>"
      ],
      "text/plain": [
       "[1/3*(L1 + L2)/EJ        1/6*L2/EJ                0                0                0                0]\n",
       "[       1/6*L2/EJ 1/3*(L2 + L3)/EJ        1/6*L3/EJ                0                0                0]\n",
       "[               0        1/6*L3/EJ 1/3*(L3 + L4)/EJ        1/6*L4/EJ                0                0]\n",
       "[               0                0        1/6*L4/EJ 1/3*(L4 + L5)/EJ        1/6*L5/EJ                0]\n",
       "[               0                0                0        1/6*L5/EJ 1/3*(L5 + L6)/EJ        1/6*L6/EJ]\n",
       "[               0                0                0                0        1/6*L6/EJ        1/3*L6/EJ]"
      ]
     },
     "execution_count": 4,
     "metadata": {
     },
     "output_type": "execute_result"
    }
   ],
   "source": [
    "#A sinistra c'é appoggio quindi va tolta prima riga e colonna\n",
    "flex=flex_gen.submatrix(1,1,6,6)\n",
    "show(flex)"
   ]
  },
  {
   "cell_type": "code",
   "execution_count": 5,
   "metadata": {
    "collapsed": false
   },
   "outputs": [
    {
     "data": {
      "text/plain": [
       "[0.0000254161901131021   7.62485703393061e-6                     0                     0                     0                     0]\n",
       "[  7.62485703393061e-6 0.0000288050154615157   6.77765069682721e-6                     0                     0                     0]\n",
       "[                    0   6.77765069682721e-6 0.0000304994281357225   8.47206337103402e-6                     0                     0]\n",
       "[                    0                     0   8.47206337103402e-6 0.0000377854026348117 0.0000104206379463718                     0]\n",
       "[                    0                     0                     0 0.0000104206379463718 0.0000343965772863981   6.77765069682721e-6]\n",
       "[                    0                     0                     0                     0   6.77765069682721e-6 0.0000135553013936544]"
      ]
     },
     "execution_count": 5,
     "metadata": {
     },
     "output_type": "execute_result"
    }
   ],
   "source": [
    "F=flex.substitute(L1=l1,L2=l2,L3=l3,L4=l4,L5=l5,L6=l6,EJ=ej)\n",
    "F"
   ]
  },
  {
   "cell_type": "code",
   "execution_count": 6,
   "metadata": {
    "collapsed": false
   },
   "outputs": [
    {
     "data": {
      "text/html": [
       "<html><script type=\"math/tex; mode=display\">\\newcommand{\\Bold}[1]{\\mathbf{#1}}\\left(\\begin{array}{rrrrrrr}\n",
       "\\frac{1}{24} \\, L_{1}^{3} & \\frac{1}{24} \\, L_{1}^{3} + \\frac{1}{24} \\, L_{2}^{3} & \\frac{1}{24} \\, L_{2}^{3} + \\frac{1}{24} \\, L_{3}^{3} & \\frac{1}{24} \\, L_{3}^{3} + \\frac{1}{24} \\, L_{4}^{3} & \\frac{1}{24} \\, L_{4}^{3} + \\frac{1}{24} \\, L_{5}^{3} & \\frac{1}{24} \\, L_{5}^{3} + \\frac{1}{24} \\, L_{6}^{3} & \\frac{1}{24} \\, L_{6}^{3}\n",
       "\\end{array}\\right)</script></html>"
      ],
      "text/plain": [
       "[            1/24*L1^3 1/24*L1^3 + 1/24*L2^3 1/24*L2^3 + 1/24*L3^3 1/24*L3^3 + 1/24*L4^3 1/24*L4^3 + 1/24*L5^3 1/24*L5^3 + 1/24*L6^3             1/24*L6^3]"
      ]
     },
     "execution_count": 6,
     "metadata": {
     },
     "output_type": "execute_result"
    }
   ],
   "source": [
    "P_gen_sx=matrix([L1^3/24,L2^3/24,L3^3/24,L4^3/24,L5^3/24,L6^3/24,0])\n",
    "P_gen_dx=matrix([0,L1^3/24,L2^3/24,L3^3/24,L4^3/24,L5^3/24,L6^3/24])\n",
    "show(P_gen_sx+P_gen_dx)\n",
    "#TODO"
   ]
  },
  {
   "cell_type": "code",
   "execution_count": 7,
   "metadata": {
    "collapsed": false
   },
   "outputs": [
    {
     "data": {
      "text/html": [
       "<html><script type=\"math/tex; mode=display\">\\newcommand{\\Bold}[1]{\\mathbf{#1}}\\left(\\begin{array}{r}\n",
       "\\frac{L_{1}^{3} Q_{1}}{24 \\, \\mathit{EJ}} \\\\\n",
       "\\frac{L_{1}^{3} Q_{1} + L_{2}^{3} Q_{2}}{24 \\, \\mathit{EJ}} \\\\\n",
       "\\frac{L_{2}^{3} Q_{2} + L_{3}^{3} Q_{3}}{24 \\, \\mathit{EJ}} \\\\\n",
       "\\frac{L_{3}^{3} Q_{3} + L_{4}^{3} Q_{4}}{24 \\, \\mathit{EJ}} \\\\\n",
       "\\frac{L_{4}^{3} Q_{4} + L_{5}^{3} Q_{5}}{24 \\, \\mathit{EJ}} \\\\\n",
       "\\frac{L_{5}^{3} Q_{5} + L_{6}^{3} Q_{6}}{24 \\, \\mathit{EJ}} \\\\\n",
       "\\frac{L_{6}^{3} Q_{6}}{24 \\, \\mathit{EJ}}\n",
       "\\end{array}\\right)</script></html>"
      ],
      "text/plain": [
       "[            1/24*L1^3*Q1/EJ]\n",
       "[1/24*(L1^3*Q1 + L2^3*Q2)/EJ]\n",
       "[1/24*(L2^3*Q2 + L3^3*Q3)/EJ]\n",
       "[1/24*(L3^3*Q3 + L4^3*Q4)/EJ]\n",
       "[1/24*(L4^3*Q4 + L5^3*Q5)/EJ]\n",
       "[1/24*(L5^3*Q5 + L6^3*Q6)/EJ]\n",
       "[            1/24*L6^3*Q6/EJ]"
      ]
     },
     "execution_count": 7,
     "metadata": {
     },
     "output_type": "execute_result"
    }
   ],
   "source": [
    "Q1,Q2,Q3,Q4,Q5,Q6=var('Q1,Q2,Q3,Q4,Q5,Q6')\n",
    "P_gen=matrix([\n",
    "        [Q1*L1^3],\n",
    "        [Q1*L1^3+Q2*L2^3],\n",
    "        [Q2*L2^3+Q3*L3^3],\n",
    "        [Q3*L3^3+Q4*L4^3],\n",
    "        [Q4*L4^3+Q5*L5^3],\n",
    "        [Q5*L5^3+Q6*L6^3],\n",
    "                [Q6*L6^3]\n",
    "    ])*1/(24*EJ)\n",
    "show(P_gen)"
   ]
  },
  {
   "cell_type": "code",
   "execution_count": 8,
   "metadata": {
    "collapsed": false
   },
   "outputs": [
    {
     "data": {
      "text/plain": [
       "[1/24*(L1^3*Q1 + L2^3*Q2)/EJ]\n",
       "[1/24*(L2^3*Q2 + L3^3*Q3)/EJ]\n",
       "[1/24*(L3^3*Q3 + L4^3*Q4)/EJ]\n",
       "[1/24*(L4^3*Q4 + L5^3*Q5)/EJ]\n",
       "[1/24*(L5^3*Q5 + L6^3*Q6)/EJ]\n",
       "[            1/24*L6^3*Q6/EJ]"
      ]
     },
     "execution_count": 8,
     "metadata": {
     },
     "output_type": "execute_result"
    }
   ],
   "source": [
    "P_gen[[1..6],[0]]"
   ]
  },
  {
   "cell_type": "markdown",
   "metadata": {
    "collapsed": false
   },
   "source": [
    "### P1"
   ]
  },
  {
   "cell_type": "code",
   "execution_count": 9,
   "metadata": {
    "collapsed": false
   },
   "outputs": [
    {
     "data": {
      "text/html": [
       "<html><script type=\"math/tex; mode=display\">\\newcommand{\\Bold}[1]{\\mathbf{#1}}\\left(\\begin{array}{r}\n",
       "0.0000114372855508959 \\\\\n",
       "0 \\\\\n",
       "0 \\\\\n",
       "0 \\\\\n",
       "0 \\\\\n",
       "0\n",
       "\\end{array}\\right)</script></html>"
      ],
      "text/plain": [
       "[0.0000114372855508959]\n",
       "[                    0]\n",
       "[                    0]\n",
       "[                    0]\n",
       "[                    0]\n",
       "[                    0]"
      ]
     },
     "execution_count": 9,
     "metadata": {
     },
     "output_type": "execute_result"
    }
   ],
   "source": [
    "P1=P_gen[[1..6],[0]].substitute(Q1=1,Q2=0,Q3=0,Q4=0,Q5=0,Q6=0,L1=l1,EJ=ej) #Tolgo la prima riga e sostituisco il carico unitario Q1 e gli altri zero\n",
    "show(P1)"
   ]
  },
  {
   "cell_type": "code",
   "execution_count": 10,
   "metadata": {
    "collapsed": false
   },
   "outputs": [
    {
     "data": {
      "text/plain": [
       "[  -0.491338912574569]\n",
       "[   0.137796375248564]\n",
       "[ -0.0328783181600082]\n",
       "[ 0.00812484517717799]\n",
       "[-0.00273048075626473]\n",
       "[ 0.00136524037813237]"
      ]
     },
     "execution_count": 10,
     "metadata": {
     },
     "output_type": "execute_result"
    }
   ],
   "source": [
    "X1=matrix(F\\-P1)\n",
    "X1"
   ]
  },
  {
   "cell_type": "code",
   "execution_count": 11,
   "metadata": {
    "collapsed": false
   },
   "outputs": [
    {
     "data": {
      "text/html": [
       "<html><script type=\"math/tex; mode=display\">\\newcommand{\\Bold}[1]{\\mathbf{#1}}\\left(\\begin{array}{r}\n",
       "0 \\\\\n",
       "-0.491338912574569 \\\\\n",
       "0.137796375248564 \\\\\n",
       "-0.0328783181600082 \\\\\n",
       "0.00812484517717799 \\\\\n",
       "-0.00273048075626473 \\\\\n",
       "0.00136524037813237\n",
       "\\end{array}\\right)</script></html>"
      ],
      "text/plain": [
       "[                   0]\n",
       "[  -0.491338912574569]\n",
       "[   0.137796375248564]\n",
       "[ -0.0328783181600082]\n",
       "[ 0.00812484517717799]\n",
       "[-0.00273048075626473]\n",
       "[ 0.00136524037813237]"
      ]
     },
     "execution_count": 11,
     "metadata": {
     },
     "output_type": "execute_result"
    }
   ],
   "source": [
    "#Aggiungo 0 per tornare alla dimesione originale\n",
    "x1=matrix([0]).stack(X1) \n",
    "show(x1)"
   ]
  },
  {
   "cell_type": "code",
   "execution_count": 12,
   "metadata": {
    "collapsed": false
   },
   "outputs": [
    {
     "data": {
      "text/plain": [
       "[    1.33622036247514]\n",
       "[   0.139807841738474]\n",
       "[ -0.0426686733521432]\n",
       "[ 0.00820063266743724]\n",
       "[-0.00176509364771426]\n",
       "[ 0.00102393028359927]"
      ]
     },
     "execution_count": 12,
     "metadata": {
     },
     "output_type": "execute_result"
    }
   ],
   "source": [
    "x1=x1.list()\n",
    "R1=matrix([\n",
    "        [((x1[1]-x1[0])/l1)+l1/2],\n",
    "        [((x1[2]-x1[1])/l2)],\n",
    "        [((x1[3]-x1[2])/l3)],\n",
    "        [((x1[4]-x1[3])/l4)],\n",
    "        [((x1[5]-x1[4])/l5)],\n",
    "        [((x1[6]-x1[5])/l6)],\n",
    "    ]); R1"
   ]
  },
  {
   "cell_type": "code",
   "execution_count": 13,
   "metadata": {
    "collapsed": false
   },
   "outputs": [
    {
     "data": {
      "text/plain": [
       "[0,\n",
       " -0.491338912574569,\n",
       " 0.137796375248564,\n",
       " -0.0328783181600082,\n",
       " 0.00812484517717799,\n",
       " -0.00273048075626473,\n",
       " 0.00136524037813237]"
      ]
     },
     "execution_count": 13,
     "metadata": {
     },
     "output_type": "execute_result"
    }
   ],
   "source": [
    "xxx1=x1\n",
    "xxx1"
   ]
  },
  {
   "cell_type": "code",
   "execution_count": 14,
   "metadata": {
    "collapsed": false
   },
   "outputs": [
    {
     "data": {
      "text/plain": [
       "[1.33622036247514,\n",
       " 0.139807841738474,\n",
       " -0.0426686733521432,\n",
       " 0.00820063266743724,\n",
       " -0.00176509364771426,\n",
       " 0.00102393028359927]"
      ]
     },
     "execution_count": 14,
     "metadata": {
     },
     "output_type": "execute_result"
    }
   ],
   "source": [
    "rrr1=R1.list()\n",
    "rrr1"
   ]
  },
  {
   "cell_type": "code",
   "execution_count": 15,
   "metadata": {
    "collapsed": false
   },
   "outputs": [
    {
     "data": {
      "text/plain": [
       "[0.000000000000000,\n",
       " 3.00000000000000,\n",
       " 7.50000000000000,\n",
       " 11.5000000000000,\n",
       " 16.5000000000000,\n",
       " 22.6500000000000,\n",
       " 26.6500000000000]"
      ]
     },
     "execution_count": 15,
     "metadata": {
     },
     "output_type": "execute_result"
    }
   ],
   "source": [
    "lung=(matrix([0,l1,l1+l2,l1+l2+l3,l1+l2+l3+l4,l1+l2+l3+l4+l5,l1+l2+l3+l4+l5+l6]))\n",
    "lung=lung.list()\n",
    "lung"
   ]
  },
  {
   "cell_type": "code",
   "execution_count": 16,
   "metadata": {
    "collapsed": false
   },
   "outputs": [
    {
     "data": {
      "image/png": "[encoded data removed]",
      "text/plain": [
       "Graphics object consisting of 1 graphics primitive"
      ]
     },
     "execution_count": 16,
     "metadata": {
     },
     "output_type": "execute_result"
    }
   ],
   "source": [
    "M1=-( #I[i,j]  i è lo stesso indice di M, j va a 0 a n-1.                           j                      j+1 \n",
    "((xxx1[0] + rrr1[0] * (x-lung[0])) - (I[0,0]*(x-lung[0])**2)/2) * (heaviside(x-lung[0]) - heaviside(x-lung[1]))  +\n",
    "((xxx1[1] + rrr1[1] * (x-lung[1])) - (I[0,1]*(x-lung[0])**2)/2) * (heaviside(x-lung[1]) - heaviside(x-lung[2])) +\n",
    "((xxx1[2] + rrr1[2] * (x-lung[2])) - (I[0,2]*(x-lung[0])**2)/2) * (heaviside(x-lung[2]) - heaviside(x-lung[3])) +\n",
    "((xxx1[3] + rrr1[3] * (x-lung[3])) - (I[0,3]*(x-lung[0])**2)/2) * (heaviside(x-lung[3]) - heaviside(x-lung[4])) +\n",
    "((xxx1[4] + rrr1[4] * (x-lung[4])) - (I[0,4]*(x-lung[0])**2)/2) * (heaviside(x-lung[4]) - heaviside(x-lung[5])) +\n",
    "((xxx1[5] + rrr1[5] * (x-lung[5])) - (I[0,5]*(x-lung[0])**2)/2) * (heaviside(x-lung[5]) - heaviside(x-lung[6])) \n",
    ")\n",
    "plotCampata1=plot(M1,0,ltot)\n",
    "plotCampata1"
   ]
  },
  {
   "cell_type": "code",
   "execution_count": 17,
   "metadata": {
    "collapsed": false
   },
   "outputs": [
   ],
   "source": [
    "def momento(F,Pi,xi,Ri,nCampata):\n",
    "    xxxi=xi\n",
    "    rrri=Ri.list()\n",
    "    i=nCampata\n",
    "    Mi=-( \n",
    "((xxxi[0] + rrri[0] * (x-lung[0])) - (I[i-1,0]*(x-lung[i-1])**2)/2) * (heaviside(x-lung[0]) - heaviside(x-lung[1])) +\n",
    "((xxxi[1] + rrri[1] * (x-lung[1])) - (I[i-1,1]*(x-lung[i-1])**2)/2) * (heaviside(x-lung[1]) - heaviside(x-lung[2])) +\n",
    "((xxxi[2] + rrri[2] * (x-lung[2])) - (I[i-1,2]*(x-lung[i-1])**2)/2) * (heaviside(x-lung[2]) - heaviside(x-lung[3])) +\n",
    "((xxxi[3] + rrri[3] * (x-lung[3])) - (I[i-1,3]*(x-lung[i-1])**2)/2) * (heaviside(x-lung[3]) - heaviside(x-lung[4])) +\n",
    "((xxxi[4] + rrri[4] * (x-lung[4])) - (I[i-1,4]*(x-lung[i-1])**2)/2) * (heaviside(x-lung[4]) - heaviside(x-lung[5])) +\n",
    "((xxxi[5] + rrri[5] * (x-lung[5])) - (I[i-1,5]*(x-lung[i-1])**2)/2) * (heaviside(x-lung[5]) - heaviside(x-lung[6])) \n",
    ")\n",
    "    return Mi"
   ]
  },
  {
   "cell_type": "markdown",
   "metadata": {
    "collapsed": false
   },
   "source": [
    "#### CAMPATA 2"
   ]
  },
  {
   "cell_type": "code",
   "execution_count": 18,
   "metadata": {
    "collapsed": false
   },
   "outputs": [
    {
     "data": {
      "text/plain": [
       "[  -0.397735354491756]\n",
       "[    2.27401324630952]\n",
       "[   0.336015802648127]\n",
       "[ -0.0645799822560683]\n",
       "[  0.0139001124757498]\n",
       "[-0.00806345098334429]"
      ]
     },
     "execution_count": 18,
     "metadata": {
     },
     "output_type": "execute_result"
    }
   ],
   "source": [
    "P2=P_gen[[1..6],[0]].substitute(Q1=0,Q2=1,Q3=0,Q4=0,Q5=0,Q6=0,L1=l1,L2=l2,EJ=ej)\n",
    "\n",
    "X2=matrix(F\\-P2)\n",
    "x2=matrix([0]).stack(X2)\n",
    "x2=x2.list()\n",
    "\n",
    "R2=matrix([\n",
    "        [((x2[1]-x2[0])/l1)],\n",
    "        [((x2[2]-x2[1])/l2)+l2/2],\n",
    "        [((x2[3]-x2[2])/l3)],\n",
    "        [((x2[4]-x2[3])/l4)],\n",
    "        [((x2[5]-x2[4])/l5)],\n",
    "        [((x2[6]-x2[5])/l6)],\n",
    "    ]); R2"
   ]
  },
  {
   "cell_type": "code",
   "execution_count": 19,
   "metadata": {
    "collapsed": false
   },
   "outputs": [
    {
     "data": {
      "image/png": "[encoded data removed]",
      "text/plain": [
       "Graphics object consisting of 1 graphics primitive"
      ]
     },
     "execution_count": 19,
     "metadata": {
     },
     "output_type": "execute_result"
    }
   ],
   "source": [
    "M2=momento(F,P2,x2,R2,2)\n",
    "plot(M2,0,ltot)"
   ]
  },
  {
   "cell_type": "markdown",
   "metadata": {
    "collapsed": false
   },
   "source": [
    "### CAMPATA 3"
   ]
  },
  {
   "cell_type": "code",
   "execution_count": 20,
   "metadata": {
    "collapsed": false
   },
   "outputs": [
    {
     "data": {
      "text/plain": [
       "[ 0.0828982179465136]\n",
       "[ -0.239483740734372]\n",
       "[   2.01809373915562]\n",
       "[  0.188715793729667]\n",
       "[-0.0406189451770295]\n",
       "[ 0.0235630376373957]"
      ]
     },
     "execution_count": 20,
     "metadata": {
     },
     "output_type": "execute_result"
    }
   ],
   "source": [
    "P3=P_gen[[1..6],[0]].substitute(Q1=0,Q2=0,Q3=1,Q4=0,Q5=0,Q6=0,L1=l1,L2=l2,L3=l3,EJ=ej)\n",
    "\n",
    "X3=matrix(F\\-P3)\n",
    "x3=matrix([0]).stack(X3) \n",
    "x3=x3.list()\n",
    "R3=matrix([\n",
    "        [((x3[1]-x3[0])/l1)],\n",
    "        [((x3[2]-x3[1])/l2)],\n",
    "        [((x3[3]-x3[2])/l3)+l3/2],\n",
    "        [((x3[4]-x3[3])/l4)],\n",
    "        [((x3[5]-x3[4])/l5)],\n",
    "        [((x3[6]-x3[5])/l6)],\n",
    "    ]); R3"
   ]
  },
  {
   "cell_type": "code",
   "execution_count": 21,
   "metadata": {
    "collapsed": false
   },
   "outputs": [
    {
     "data": {
      "image/png": "[encoded data removed]",
      "text/plain": [
       "Graphics object consisting of 1 graphics primitive"
      ]
     },
     "execution_count": 21,
     "metadata": {
     },
     "output_type": "execute_result"
    }
   ],
   "source": [
    "M3=momento(F,P3,x3,R3,3)\n",
    "plot(M3,0,ltot)"
   ]
  },
  {
   "cell_type": "markdown",
   "metadata": {
    "collapsed": false
   },
   "source": [
    "### CAMPATA 4"
   ]
  },
  {
   "cell_type": "code",
   "execution_count": 22,
   "metadata": {
    "collapsed": false
   },
   "outputs": [
    {
     "data": {
      "text/plain": [
       "[-0.0381998039858491]\n",
       "[  0.110354989292453]\n",
       "[ -0.469141342701209]\n",
       "[   2.56388225809328]\n",
       "[  0.255298460080277]\n",
       "[ -0.148098558380157]"
      ]
     },
     "execution_count": 22,
     "metadata": {
     },
     "output_type": "execute_result"
    }
   ],
   "source": [
    "P4=P_gen[[1..6],[0]].substitute(Q1=0,Q2=0,Q3=0,Q4=1,Q5=0,Q6=0,L1=l1,L2=l2,L3=l3,L4=l4,EJ=ej)\n",
    "\n",
    "X4=matrix(F\\-P4)\n",
    "x4=matrix([0]).stack(X4) \n",
    "x4=x4.list()\n",
    "\n",
    "R4=matrix([\n",
    "        [((x4[1]-x4[0])/l1)],\n",
    "        [((x4[2]-x4[1])/l2)],\n",
    "        [((x4[3]-x4[2])/l3)],\n",
    "        [((x4[4]-x4[3])/l4)+l4/2],\n",
    "        [((x4[5]-x4[4])/l5)],\n",
    "        [((x4[6]-x4[5])/l6)],\n",
    "    ]); R4"
   ]
  },
  {
   "cell_type": "code",
   "execution_count": 23,
   "metadata": {
    "collapsed": false
   },
   "outputs": [
    {
     "data": {
      "image/png": "[encoded data removed]",
      "text/plain": [
       "Graphics object consisting of 1 graphics primitive"
      ]
     },
     "execution_count": 23,
     "metadata": {
     },
     "output_type": "execute_result"
    }
   ],
   "source": [
    "M4=momento(F,P4,x4,R4,4)\n",
    "plot(M4,0,ltot)"
   ]
  },
  {
   "cell_type": "markdown",
   "metadata": {
    "collapsed": false
   },
   "source": [
    "### CAMPATA 5"
   ]
  },
  {
   "cell_type": "code",
   "execution_count": 24,
   "metadata": {
    "collapsed": false
   },
   "outputs": [
    {
     "data": {
      "text/plain": [
       "[ 0.0154910412605734]\n",
       "[-0.0447518969749899]\n",
       "[  0.190249350481417]\n",
       "[ -0.532814364157423]\n",
       "[   3.00538904775310]\n",
       "[  0.932284570419608]"
      ]
     },
     "execution_count": 24,
     "metadata": {
     },
     "output_type": "execute_result"
    }
   ],
   "source": [
    "P5=P_gen[[1..6],[0]].substitute(Q1=0,Q2=0,Q3=0,Q4=0,Q5=1,Q6=0,L1=l1,L2=l2,L3=l3,L4=l4,L5=l5,EJ=ej)\n",
    "\n",
    "x5=matrix(F\\-P5)\n",
    "x5=matrix([0]).stack(x5) \n",
    "x5=x5.list()\n",
    "\n",
    "R5=matrix([\n",
    "        [((x5[1]-x5[0])/l1)],\n",
    "        [((x5[2]-x5[1])/l2)],\n",
    "        [((x5[3]-x5[2])/l3)],\n",
    "        [((x5[4]-x5[3])/l4)],\n",
    "        [((x5[5]-x5[4])/l5)+l5/2],\n",
    "        [((x5[6]-x5[5])/l6)],\n",
    "    ]); R5"
   ]
  },
  {
   "cell_type": "code",
   "execution_count": 25,
   "metadata": {
    "collapsed": false
   },
   "outputs": [
    {
     "data": {
      "image/png": "[encoded data removed]",
      "text/plain": [
       "Graphics object consisting of 1 graphics primitive"
      ]
     },
     "execution_count": 25,
     "metadata": {
     },
     "output_type": "execute_result"
    }
   ],
   "source": [
    "M5=momento(F,P5,x5,R5,5)\n",
    "plot(M5,0,ltot)"
   ]
  },
  {
   "cell_type": "markdown",
   "metadata": {
    "collapsed": false
   },
   "source": [
    "### CAMPATA 6"
   ]
  },
  {
   "cell_type": "code",
   "execution_count": 26,
   "metadata": {
    "collapsed": false
   },
   "outputs": [
    {
     "data": {
      "text/plain": [
       "[-0.00107870844691940]\n",
       "[ 0.00311626884665605]\n",
       "[ -0.0132478881137289]\n",
       "[  0.0371021770317928]\n",
       "[  -0.102215486248930]\n",
       "[    1.68199455872163]"
      ]
     },
     "execution_count": 26,
     "metadata": {
     },
     "output_type": "execute_result"
    }
   ],
   "source": [
    "P6=P_gen[[1..6],[0]].substitute(Q1=0,Q2=0,Q3=0,Q4=0,Q5=0,Q6=1,L1=l1,L2=l2,L3=l3,L4=l4,L5=l5,L6=l6,EJ=ej)\n",
    "\n",
    "x6=matrix(F\\-P6)\n",
    "x6=matrix([0]).stack(x6) \n",
    "x6=x6.list()\n",
    "\n",
    "R6=matrix([\n",
    "        [((x6[1]-x6[0])/l1)],\n",
    "        [((x6[2]-x6[1])/l2)],\n",
    "        [((x6[3]-x6[2])/l3)],\n",
    "        [((x6[4]-x6[3])/l4)],\n",
    "        [((x6[5]-x6[4])/l5)],\n",
    "        [((x6[6]-x6[5])/l6)+l6/2],\n",
    "    ]); R6"
   ]
  },
  {
   "cell_type": "code",
   "execution_count": 27,
   "metadata": {
    "collapsed": false
   },
   "outputs": [
    {
     "data": {
      "image/png": "[encoded data removed]",
      "text/plain": [
       "Graphics object consisting of 1 graphics primitive"
      ]
     },
     "execution_count": 27,
     "metadata": {
     },
     "output_type": "execute_result"
    }
   ],
   "source": [
    "M6=momento(F,P6,x6,R6,6)\n",
    "plot(M6,0,ltot)"
   ]
  },
  {
   "cell_type": "code",
   "execution_count": 28,
   "metadata": {
    "collapsed": false
   },
   "outputs": [
    {
     "data": {
      "image/png": "[encoded data removed]",
      "text/plain": [
       "Graphics object consisting of 1 graphics primitive"
      ]
     },
     "execution_count": 28,
     "metadata": {
     },
     "output_type": "execute_result"
    }
   ],
   "source": [
    "plot(M1+M2+M3+M4+M5+M6,0,ltot)"
   ]
  }
 ],
 "metadata": {
  "kernelspec": {
   "display_name": "SageMath (stable)",
   "language": "sagemath",
   "metadata": {
    "cocalc": {
     "description": "Open-source mathematical software system",
     "priority": 10,
     "url": "https://www.sagemath.org/"
    }
   },
   "name": "sagemath"
  },
  "language_info": {
   "codemirror_mode": {
    "name": "ipython",
    "version": 2
   },
   "file_extension": ".py",
   "mimetype": "text/x-python",
   "name": "python",
   "nbconvert_exporter": "python",
   "pygments_lexer": "ipython2",
   "version": "2.7.15"
  }
 },
 "nbformat": 4,
 "nbformat_minor": 0
}